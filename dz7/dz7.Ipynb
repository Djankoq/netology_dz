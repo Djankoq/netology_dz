{
 "cells": [
  {
   "cell_type": "code",
   "execution_count": 107,
   "metadata": {},
   "outputs": [
    {
     "name": "stdout",
     "output_type": "stream",
     "text": [
      "Formula 1 - time: 0.0035\n",
      "Formula 2 - time: 0.0010\n",
      "Formula 3 - time: 0.0020\n",
      "Formula 1 - time: 0.0196\n",
      "Formula 2 - time: 0.0030\n",
      "Formula 3 - time: 0.0205\n"
     ]
    }
   ],
   "source": [
    "import threading\n",
    "import time\n",
    "\n",
    "def formula1(x):\n",
    "    return x**2 - x**2 + x**4 - x**5 + x + x\n",
    "\n",
    "def formula2(x):\n",
    "    return x + x\n",
    "\n",
    "def step1(reps):\n",
    "    def countReps1():\n",
    "        for i in range(reps):\n",
    "            result = formula1(i)\n",
    "    startTime = time.time()\n",
    "    t1 = threading.Thread(target=countReps1)\n",
    "    t1.start()\n",
    "    t1.join()\n",
    "    endTime = time.time()\n",
    "    print(f\"Formula 1 - time: {endTime - startTime:.4f}\")\n",
    "\n",
    "def step2(reps):\n",
    "    def countReps2():\n",
    "        for i in range(reps):\n",
    "            result = formula2(i)\n",
    "    startTime = time.time()\n",
    "    t2 = threading.Thread(target=countReps2)\n",
    "    t2.start()\n",
    "    t2.join()\n",
    "    endTime = time.time()\n",
    "    print(f\"Formula 2 - time: {endTime - startTime:.4f}\")\n",
    "\n",
    "def step3(reps):\n",
    "    def countReps3():\n",
    "        for i in range(reps):\n",
    "            result = formula1(i) + formula2(2)\n",
    "    startTime = time.time()\n",
    "    t3 = threading.Thread(target=countReps3)\n",
    "    t3.start()\n",
    "    t3.join()\n",
    "    endTime = time.time()\n",
    "    print(f\"Formula 3 - time: {endTime - startTime:.4f}\")\n",
    "\n",
    "step1(10000)\n",
    "step2(10000)\n",
    "step3(10000)\n",
    "step1(100000)\n",
    "step2(100000)\n",
    "step3(100000)\n",
    "\n",
    "\n",
    "\n"
   ]
  },
  {
   "cell_type": "code",
   "execution_count": 167,
   "metadata": {},
   "outputs": [
    {
     "name": "stdout",
     "output_type": "stream",
     "text": [
      "Formula 1 - time: 0.0420\n",
      "Formula 2 - time: 0.0415\n",
      "Formula 3 - time: 0.0421\n"
     ]
    }
   ],
   "source": [
    "from multiprocessing import Process\n",
    "\n",
    "def formula1(x):\n",
    "    return x**2 - x**2 + x**4 - x**5 + x + x\n",
    "\n",
    "def formula2(x):\n",
    "    return x + x\n",
    "\n",
    "def step1(reps):\n",
    "    for i in range(reps):\n",
    "        result = formula1(i)\n",
    "\n",
    "def step2(reps):\n",
    "    for i in range(reps):\n",
    "        result = formula2(i)\n",
    "\n",
    "def step3(reps):\n",
    "    for i in range(reps):\n",
    "        result = formula1(i) + formula2(i)\n",
    "\n",
    "startTime1 = time.time()\n",
    "p1 = Process(target=step1, args=(10000,))\n",
    "p1.start()\n",
    "p1.join()\n",
    "endTime1 = time.time()\n",
    "print(f\"Formula 1 - time: {endTime1 - startTime1:.4f}\")\n",
    "\n",
    "startTime2 = time.time()\n",
    "p2 = Process(target=step2, args=(10000,))\n",
    "p2.start()\n",
    "p2.join()\n",
    "endTime2 = time.time()\n",
    "print(f\"Formula 2 - time: {endTime2 - startTime2:.4f}\")\n",
    "\n",
    "startTime3 = time.time()\n",
    "p3 = Process(target=step3, args=(10000,))\n",
    "p3.start()\n",
    "p3.join()\n",
    "endTime3 = time.time()\n",
    "print(f\"Formula 3 - time: {endTime3 - startTime3:.4f}\")"
   ]
  },
  {
   "cell_type": "code",
   "execution_count": 170,
   "metadata": {},
   "outputs": [
    {
     "name": "stdout",
     "output_type": "stream",
     "text": [
      "Formula 1 - time: 0.0431\n",
      "Formula 2 - time: 0.0385\n",
      "Formula 3 - time: 0.0393\n"
     ]
    }
   ],
   "source": [
    "startTime1 = time.time()\n",
    "p1 = Process(target=step1, args=(100000,))\n",
    "p1.start()\n",
    "p1.join()\n",
    "endTime1 = time.time()\n",
    "print(f\"Formula 1 - time: {endTime1 - startTime1:.4f}\")\n",
    "\n",
    "startTime2 = time.time()\n",
    "p2 = Process(target=step2, args=(100000,))\n",
    "p2.start()\n",
    "p2.join()\n",
    "endTime2 = time.time()\n",
    "print(f\"Formula 2 - time: {endTime2 - startTime2:.4f}\")\n",
    "\n",
    "startTime3 = time.time()\n",
    "p3 = Process(target=step3, args=(100000,))\n",
    "p3.start()\n",
    "p3.join()\n",
    "endTime3 = time.time()\n",
    "print(f\"Formula 3 - time: {endTime3 - startTime3:.4f}\")"
   ]
  }
 ],
 "metadata": {
  "kernelspec": {
   "display_name": "Python 3",
   "language": "python",
   "name": "python3"
  },
  "language_info": {
   "codemirror_mode": {
    "name": "ipython",
    "version": 3
   },
   "file_extension": ".py",
   "mimetype": "text/x-python",
   "name": "python",
   "nbconvert_exporter": "python",
   "pygments_lexer": "ipython3",
   "version": "3.12.4"
  }
 },
 "nbformat": 4,
 "nbformat_minor": 2
}
