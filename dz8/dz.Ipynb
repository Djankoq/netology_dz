{
 "cells": [
  {
   "cell_type": "code",
   "execution_count": 16,
   "metadata": {},
   "outputs": [],
   "source": [
    "class Order: ##Класс для создания и парсинга заказов\n",
    "    def __init__(self, name,\n",
    "    deviceType,\n",
    "    browser,\n",
    "    sex,\n",
    "    age,\n",
    "    bill,\n",
    "    region):\n",
    "        self.name = name\n",
    "        self.deviceType = deviceType\n",
    "        self.browser = browser\n",
    "        self.sex = sex\n",
    "        self.age = age\n",
    "        self.bill = bill\n",
    "        self.region = region \n",
    "\n",
    "    def parseOrder(self): ## Парсим параметры для дальнейшего внесения в строку\n",
    "        params = []\n",
    "        did = ''\n",
    "        newSex= ''\n",
    "        newDeviceType = ''\n",
    "        newRegion = ''\n",
    "        if self.sex.lower() == 'male':\n",
    "            newSex = 'мужского'\n",
    "            did = 'совершил'\n",
    "        else:\n",
    "            newSex = 'Женского'\n",
    "            did = 'совершила'\n",
    "        if self.deviceType.lower() == 'desktop':\n",
    "            newDeviceType = 'компьютерного'\n",
    "        else:\n",
    "            newDeviceType = 'мобильного'\n",
    "        if self.region.lower() == '-':\n",
    "            newRegion = 'Неизвестно'\n",
    "        else:\n",
    "            newRegion = self.region\n",
    "        params.append(newSex)\n",
    "        params.append(did)\n",
    "        params.append(newDeviceType)\n",
    "        params.append(newRegion)\n",
    "        return params ## Возращает массив с измененными параметрами\n",
    "\n",
    "    def parseInfo(self): ## Создаем строку под нужный нам шаблон\n",
    "        params = self.parseOrder()\n",
    "        return f\"Пользователь {self.name} {params[0]} пола, {self.age} лет {params[1]} покупку на {self.bill} у.е. с {params[2]} браузера {self.browser}. Регион, из которого совершалась покупка: {params[3]}\" ##Вставляем параметры из класса и измененные параметры\n",
    "\n",
    "def parseFile(): ## Функция записиси измененных параметров\n",
    "    fileToRead = open('web_clients_correct.csv', 'r').readlines()\n",
    "    fileToRead = fileToRead[1:]\n",
    "    fileToWrite = open('parsed.txt', 'w')\n",
    "\n",
    "    for line in fileToRead: ## Проходим построчно\n",
    "        newLine = line.split(',') ## разделяем строку по знаку запятой и создаем массив\n",
    "        order = Order(name=newLine[0], deviceType=newLine[1], browser=newLine[2], sex=newLine[3],\n",
    "                      age=newLine[4], bill=newLine[5], region=newLine[6]) ## Создаем новый объект класа Order с параметрами, полученными из строки\n",
    "        fileToWrite.write(order.parseInfo() + \"---------------------\\n\") ## Вызываем метод parseInfo() и вносим эту строку в файл, так же разделяем, для более легкого чтения\n"
   ]
  },
  {
   "cell_type": "code",
   "execution_count": 17,
   "metadata": {},
   "outputs": [],
   "source": [
    "if __name__ == \"__main__\":\n",
    "    parseFile() # Вызываем фунцию записи в новый файл"
   ]
  }
 ],
 "metadata": {
  "kernelspec": {
   "display_name": "Python 3",
   "language": "python",
   "name": "python3"
  },
  "language_info": {
   "codemirror_mode": {
    "name": "ipython",
    "version": 3
   },
   "file_extension": ".py",
   "mimetype": "text/x-python",
   "name": "python",
   "nbconvert_exporter": "python",
   "pygments_lexer": "ipython3",
   "version": "3.12.4"
  }
 },
 "nbformat": 4,
 "nbformat_minor": 2
}
